{
 "cells": [
  {
   "cell_type": "markdown",
   "id": "91cfd83b",
   "metadata": {
    "papermill": {
     "duration": 0.004722,
     "end_time": "2023-10-22T18:55:29.361794",
     "exception": false,
     "start_time": "2023-10-22T18:55:29.357072",
     "status": "completed"
    },
    "tags": []
   },
   "source": [
    "# Naive Approach to ARIMA modelling using MSE values as loss function and Fourier time series approximation to handle seasonality"
   ]
  },
  {
   "cell_type": "code",
   "execution_count": 1,
   "id": "026cd334",
   "metadata": {
    "papermill": {
     "duration": 16.04168,
     "end_time": "2023-10-22T18:55:45.407461",
     "exception": false,
     "start_time": "2023-10-22T18:55:29.365781",
     "status": "completed"
    },
    "tags": []
   },
   "outputs": [
    {
     "name": "stdout",
     "output_type": "stream",
     "text": [
      "Requirement already satisfied: pmdarima in /media/windows/Users/min/My_Documents/School/Year3Semester1/SC4000/Demand_Forecast/_build/pip_packages/lib/python3.10/site-packages (2.0.3)\n",
      "Requirement already satisfied: joblib>=0.11 in /media/windows/Users/min/My_Documents/School/Year3Semester1/SC4000/Demand_Forecast/_build/pip_packages/lib/python3.10/site-packages (from pmdarima) (1.3.2)\n",
      "Requirement already satisfied: Cython!=0.29.18,!=0.29.31,>=0.29 in /media/windows/Users/min/My_Documents/School/Year3Semester1/SC4000/Demand_Forecast/_build/pip_packages/lib/python3.10/site-packages (from pmdarima) (3.0.4)\n",
      "Requirement already satisfied: numpy>=1.21.2 in /media/windows/Users/min/My_Documents/School/Year3Semester1/SC4000/Demand_Forecast/_build/pip_packages/lib/python3.10/site-packages (from pmdarima) (1.26.1)\n",
      "Requirement already satisfied: pandas>=0.19 in /media/windows/Users/min/My_Documents/School/Year3Semester1/SC4000/Demand_Forecast/_build/pip_packages/lib/python3.10/site-packages (from pmdarima) (2.1.1)\n",
      "Requirement already satisfied: scikit-learn>=0.22 in /media/windows/Users/min/My_Documents/School/Year3Semester1/SC4000/Demand_Forecast/_build/pip_packages/lib/python3.10/site-packages (from pmdarima) (1.3.1)\n",
      "Requirement already satisfied: scipy>=1.3.2 in /media/windows/Users/min/My_Documents/School/Year3Semester1/SC4000/Demand_Forecast/_build/pip_packages/lib/python3.10/site-packages (from pmdarima) (1.11.3)\n",
      "Requirement already satisfied: statsmodels>=0.13.2 in /media/windows/Users/min/My_Documents/School/Year3Semester1/SC4000/Demand_Forecast/_build/pip_packages/lib/python3.10/site-packages (from pmdarima) (0.14.0)\n",
      "Requirement already satisfied: urllib3 in /media/windows/Users/min/My_Documents/School/Year3Semester1/SC4000/Demand_Forecast/_build/pip_packages/lib/python3.10/site-packages (from pmdarima) (2.0.7)\n",
      "Requirement already satisfied: setuptools!=50.0.0,>=38.6.0 in /media/windows/Users/min/My_Documents/School/Year3Semester1/SC4000/Demand_Forecast/_build/pip_packages/lib/python3.10/site-packages (from pmdarima) (68.2.2)\n",
      "Requirement already satisfied: python-dateutil>=2.8.2 in /media/windows/Users/min/My_Documents/School/Year3Semester1/SC4000/Demand_Forecast/_build/pip_packages/lib/python3.10/site-packages (from pandas>=0.19->pmdarima) (2.8.2)\n",
      "Requirement already satisfied: pytz>=2020.1 in /media/windows/Users/min/My_Documents/School/Year3Semester1/SC4000/Demand_Forecast/_build/pip_packages/lib/python3.10/site-packages (from pandas>=0.19->pmdarima) (2023.3.post1)\n",
      "Requirement already satisfied: tzdata>=2022.1 in /media/windows/Users/min/My_Documents/School/Year3Semester1/SC4000/Demand_Forecast/_build/pip_packages/lib/python3.10/site-packages (from pandas>=0.19->pmdarima) (2023.3)\n",
      "Requirement already satisfied: threadpoolctl>=2.0.0 in /media/windows/Users/min/My_Documents/School/Year3Semester1/SC4000/Demand_Forecast/_build/pip_packages/lib/python3.10/site-packages (from scikit-learn>=0.22->pmdarima) (3.2.0)\n",
      "Requirement already satisfied: patsy>=0.5.2 in /media/windows/Users/min/My_Documents/School/Year3Semester1/SC4000/Demand_Forecast/_build/pip_packages/lib/python3.10/site-packages (from statsmodels>=0.13.2->pmdarima) (0.5.3)\n",
      "Requirement already satisfied: packaging>=21.3 in /media/windows/Users/min/My_Documents/School/Year3Semester1/SC4000/Demand_Forecast/_build/pip_packages/lib/python3.10/site-packages (from statsmodels>=0.13.2->pmdarima) (23.2)\n",
      "Requirement already satisfied: six in /media/windows/Users/min/My_Documents/School/Year3Semester1/SC4000/Demand_Forecast/_build/pip_packages/lib/python3.10/site-packages (from patsy>=0.5.2->statsmodels>=0.13.2->pmdarima) (1.16.0)\n"
     ]
    }
   ],
   "source": [
    "!pip install pmdarima"
   ]
  },
  {
   "cell_type": "code",
   "execution_count": 2,
   "id": "6b9c2b1a",
   "metadata": {
    "papermill": {
     "duration": 3.80138,
     "end_time": "2023-10-22T18:55:49.213608",
     "exception": false,
     "start_time": "2023-10-22T18:55:45.412228",
     "status": "completed"
    },
    "tags": []
   },
   "outputs": [],
   "source": [
    "import matplotlib.pyplot as plt\n",
    "import numpy as np\n",
    "import pandas as pd\n",
    "\n",
    "from datetime import datetime, timedelta\n",
    "from itertools import product\n",
    "from pandas.plotting import register_matplotlib_converters\n",
    "from pmdarima import auto_arima, ARIMA\n",
    "from statsmodels.graphics.tsaplots import plot_acf, plot_pacf, plot_predict\n",
    "from statsmodels.tsa.stattools import acf, pacf\n",
    "# from statsmodels.tsa.arima.model import ARIMA\n",
    "from statsmodels.tsa.stattools import adfuller\n",
    "\n",
    "register_matplotlib_converters()"
   ]
  },
  {
   "cell_type": "code",
   "execution_count": 3,
   "id": "ea528cba-2d17-4312-8cfe-a772dcd629c7",
   "metadata": {},
   "outputs": [],
   "source": [
    "# TESTING = False\n",
    "# item_count, store_count = 50, 10\n",
    "# forecast_range = 90\n",
    "\n",
    "# df = pd.read_csv('/kaggle/input/demand-forecasting-kernels-only/train.csv')\n",
    "# df_eval =pd.read_csv('/kaggle/input/demand-forecasting-kernels-only/test.csv')\n",
    "\n",
    "# df[\"date\"] = pd.to_datetime(df[\"date\"])\n",
    "# df_eval[\"date\"] = pd.to_datetime(df[\"date\"])\n",
    "# df"
   ]
  },
  {
   "cell_type": "code",
   "execution_count": 4,
   "id": "cc8b0a1a-c376-4481-941a-1d6dec86c690",
   "metadata": {},
   "outputs": [
    {
     "data": {
      "text/plain": [
       "(             date  store  item  sales\n",
       " 0      2013-01-01      1     1     13\n",
       " 1      2013-01-02      1     1     11\n",
       " 2      2013-01-03      1     1     14\n",
       " 3      2013-01-04      1     1     13\n",
       " 4      2013-01-05      1     1     10\n",
       " ...           ...    ...   ...    ...\n",
       " 912995 2017-12-27     10    50     63\n",
       " 912996 2017-12-28     10    50     59\n",
       " 912997 2017-12-29     10    50     74\n",
       " 912998 2017-12-30     10    50     62\n",
       " 912999 2017-12-31     10    50     82\n",
       " \n",
       " [913000 rows x 4 columns],\n",
       "           id       date  store  item\n",
       " 0          0 2018-01-01      1     1\n",
       " 1          1 2018-01-02      1     1\n",
       " 2          2 2018-01-03      1     1\n",
       " 3          3 2018-01-04      1     1\n",
       " 4          4 2018-01-05      1     1\n",
       " ...      ...        ...    ...   ...\n",
       " 44995  44995 2018-03-27     10    50\n",
       " 44996  44996 2018-03-28     10    50\n",
       " 44997  44997 2018-03-29     10    50\n",
       " 44998  44998 2018-03-30     10    50\n",
       " 44999  44999 2018-03-31     10    50\n",
       " \n",
       " [45000 rows x 4 columns])"
      ]
     },
     "execution_count": 4,
     "metadata": {},
     "output_type": "execute_result"
    }
   ],
   "source": [
    "# Test best parameters before submission\n",
    "TESTING = True\n",
    "item_count, store_count = 5, 5\n",
    "forecast_range = 90\n",
    "n_harm = 100\n",
    "\n",
    "df = pd.read_csv('../data/train.csv')\n",
    "df_eval =pd.read_csv('../data/test.csv')\n",
    "\n",
    "df[\"date\"] = pd.to_datetime(df[\"date\"])\n",
    "df_eval[\"date\"] = pd.to_datetime(df_eval[\"date\"])\n",
    "df, df_eval"
   ]
  },
  {
   "cell_type": "code",
   "execution_count": 5,
   "id": "1fc6804b",
   "metadata": {
    "papermill": {
     "duration": 0.022919,
     "end_time": "2023-10-22T18:55:50.190645",
     "exception": false,
     "start_time": "2023-10-22T18:55:50.167726",
     "status": "completed"
    },
    "tags": []
   },
   "outputs": [],
   "source": [
    "def fourier_extrapolation(x, n_predict, n_harm=50):\n",
    "    n = x.size\n",
    "    t = np.arange(0, n)\n",
    "    p = np.polyfit(t, x, 1)         # Find linear trend in x\n",
    "    x_detrended = x - p[0] * t      # Detrended x\n",
    "    x_freq_domain = np.fft.fft(x_detrended)  # Detrended x in the frequency domain\n",
    "    f = np.fft.fftfreq(n)              # Frequencies\n",
    "    indexes = list(range(n))\n",
    "    # Sort indexes by frequency, lower -> higher\n",
    "    indexes.sort(key=lambda i: np.absolute(f[i]))\n",
    "\n",
    "    t = np.arange(0, n + n_predict)\n",
    "    restored_signal = np.zeros(t.size)\n",
    "    for i in indexes[:1 + n_harm * 2]:\n",
    "        amplitude = np.absolute(x_freq_domain[i]) / n   # Amplitude\n",
    "        phase = np.angle(x_freq_domain[i])             # Phase\n",
    "        restored_signal += amplitude * np.cos(2 * np.pi * f[i] * t + phase)\n",
    "        \n",
    "    restored_signal = restored_signal + p[0] * t\n",
    "    restored_signal = pd.Series(restored_signal, \n",
    "                               index=pd.date_range(\n",
    "                                   start=x.index[0],\n",
    "                                   periods=len(x) + n_predict,\n",
    "                                   freq='D'\n",
    "                               )\n",
    "                              )\n",
    "    \n",
    "    in_sample_signal = restored_signal[:n]\n",
    "    future_signal = restored_signal[n:]\n",
    "\n",
    "    return in_sample_signal, future_signal"
   ]
  },
  {
   "cell_type": "code",
   "execution_count": 6,
   "id": "df3f2369",
   "metadata": {
    "papermill": {
     "duration": 35.543221,
     "end_time": "2023-10-22T18:56:25.741065",
     "exception": false,
     "start_time": "2023-10-22T18:55:50.197844",
     "status": "completed"
    },
    "tags": []
   },
   "outputs": [],
   "source": [
    "series_dict = dict()\n",
    "actual_series_dict = dict()   # For testing\n",
    "in_sample_fourier_dict = dict()\n",
    "future_fourier_dict = dict()\n",
    "\n",
    "for (iid, sid) in product(range(1, item_count+1), range(1, store_count+1)):\n",
    "    df_t = df[(df[\"item\"] == iid) & (df[\"store\"] == sid)]\n",
    "    \n",
    "    if not TESTING:\n",
    "        series_t = pd.Series(df_t[\"sales\"].values, df_t[\"date\"])\n",
    "    else:\n",
    "        series_t = pd.Series(df_t[\"sales\"][:-forecast_range].values,\n",
    "                             df_t[\"date\"][:-forecast_range])\n",
    "        actual_series_dict[(iid, sid)] = pd.Series(df_t[\"sales\"][-forecast_range:].values,\n",
    "                                                   df_t[\"date\"][-forecast_range:])\n",
    "        \n",
    "    iss, fs = fourier_extrapolation(series_t, forecast_range, n_harm)\n",
    "    \n",
    "    series_dict[(iid, sid)] = series_t\n",
    "    in_sample_fourier_dict[(iid, sid)] = iss\n",
    "    future_fourier_dict[(iid, sid)] = fs"
   ]
  },
  {
   "cell_type": "code",
   "execution_count": 7,
   "id": "a0fb6cae",
   "metadata": {
    "papermill": {
     "duration": 1444.169278,
     "end_time": "2023-10-22T19:20:29.917074",
     "exception": false,
     "start_time": "2023-10-22T18:56:25.747796",
     "status": "completed"
    },
    "scrolled": true,
    "tags": []
   },
   "outputs": [
    {
     "name": "stdout",
     "output_type": "stream",
     "text": [
      "1 1\n"
     ]
    },
    {
     "name": "stderr",
     "output_type": "stream",
     "text": [
      "/tmp/ipykernel_206800/2590526100.py:27: FutureWarning: The behavior of DataFrame concatenation with empty or all-NA entries is deprecated. In a future version, this will no longer exclude empty or all-NA columns when determining the result dtypes. To retain the old behavior, exclude the relevant entries before the concat operation.\n",
      "  pred_df = pd.concat([pred_df, pred], axis=0)\n"
     ]
    },
    {
     "name": "stdout",
     "output_type": "stream",
     "text": [
      "1 2\n",
      "1 3\n",
      "1 4\n",
      "1 5\n",
      "2 1\n",
      "2 2\n",
      "2 3\n",
      "2 4\n",
      "2 5\n",
      "3 1\n",
      "3 2\n",
      "3 3\n",
      "3 4\n",
      "3 5\n",
      "4 1\n",
      "4 2\n",
      "4 3\n",
      "4 4\n",
      "4 5\n",
      "5 1\n",
      "5 2\n",
      "5 3\n",
      "5 4\n",
      "5 5\n"
     ]
    }
   ],
   "source": [
    "fitted_model_dict = dict()\n",
    "pred_df = pd.DataFrame(columns=[\"date\", \"store\", \"item\", \"sales\"])\n",
    "pred_series_dict = dict()\n",
    "\n",
    "# Requires sid to iterate first then iid to iterate\n",
    "for (sid, iid) in product(range(1, store_count+1), range(1, item_count+1)):\n",
    "    print(sid, iid)\n",
    "    model = ARIMA((5, 0, 5), suppress_warnings=True, enforce_stationarity=False)\n",
    "    model = model.fit(series_dict[iid, sid],\n",
    "                      np.array(in_sample_fourier_dict[iid, sid]).reshape(-1, 1)\n",
    "                     )\n",
    "#     model = auto_arima(series_dict[iid, sid],\n",
    "#                        np.array(in_sample_fourier_dict[iid, sid]).reshape(-1,1)\n",
    "#                       )\n",
    "    fitted_model_dict[(iid, sid)] = model\n",
    "    \n",
    "    pred = model.predict(forecast_range, np.array(future_fourier_dict[(iid, sid)]).reshape(-1, 1))\n",
    "    pred = np.round(pred).astype(int)\n",
    "    \n",
    "    pred_series_dict[(iid, sid)] = pred\n",
    "    pred = pd.DataFrame({\n",
    "        \"date\": pred.index,\n",
    "        \"store\": sid,\n",
    "        \"item\": iid,\n",
    "        \"sales\": pred.values\n",
    "    })\n",
    "    pred_df = pd.concat([pred_df, pred], axis=0)\n"
   ]
  },
  {
   "cell_type": "code",
   "execution_count": 8,
   "id": "ad2770b7-b5b9-4d5d-abee-72ab082cdf70",
   "metadata": {},
   "outputs": [
    {
     "name": "stdout",
     "output_type": "stream",
     "text": [
      "Score is 24.126505270332867\n"
     ]
    }
   ],
   "source": [
    "def smape(A, F):\n",
    "    return 100/len(A) * np.sum(2 * np.abs(F - A) / (np.abs(A) + np.abs(F)))\n",
    "\n",
    "if TESTING:\n",
    "    score_pred = np.array([])\n",
    "    score_actual = np.array([])\n",
    "    for (sid, iid) in product(range(1, store_count+1), range(1, item_count+1)):\n",
    "        score_pred = np.concatenate([score_pred, pred_series_dict[(iid, sid)]])\n",
    "        score_actual = np.concatenate([score_actual, actual_series_dict[(iid, sid)]])\n",
    "    print(f\"Score is {smape(score_actual, score_pred)}\")\n",
    "else:\n",
    "    # Write submission csv\n",
    "    df_submit = df_eval.merge(pred_df, on = [\"date\", \"store\", \"item\"]).sort_values(by=\"id\")[[\"id\", \"sales\"]]\n",
    "    df_submit.to_csv(\"submission.csv\", index=False)"
   ]
  }
 ],
 "metadata": {
  "kernelspec": {
   "display_name": "Python 3 (ipykernel)",
   "language": "python",
   "name": "python3"
  },
  "language_info": {
   "codemirror_mode": {
    "name": "ipython",
    "version": 3
   },
   "file_extension": ".py",
   "mimetype": "text/x-python",
   "name": "python",
   "nbconvert_exporter": "python",
   "pygments_lexer": "ipython3",
   "version": "3.10.12"
  },
  "papermill": {
   "default_parameters": {},
   "duration": 1505.465329,
   "end_time": "2023-10-22T19:20:31.310475",
   "environment_variables": {},
   "exception": null,
   "input_path": "__notebook__.ipynb",
   "output_path": "__notebook__.ipynb",
   "parameters": {},
   "start_time": "2023-10-22T18:55:25.845146",
   "version": "2.4.0"
  }
 },
 "nbformat": 4,
 "nbformat_minor": 5
}
