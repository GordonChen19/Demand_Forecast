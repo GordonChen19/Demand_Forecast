{
 "cells": [
  {
   "cell_type": "markdown",
   "id": "e5633a47-304c-42bd-a712-296d553c32f0",
   "metadata": {},
   "source": [
    "# Naive Approach to ARIMA modelling using MSE values as loss function"
   ]
  },
  {
   "cell_type": "code",
   "execution_count": 1,
   "id": "9cbf8cbf-8b05-4b20-b943-a6de3b3bc432",
   "metadata": {},
   "outputs": [],
   "source": [
    "import matplotlib.pyplot as plt\n",
    "import numpy as np\n",
    "import pandas as pd\n",
    "\n",
    "from datetime import datetime, timedelta\n",
    "from itertools import product\n",
    "from pandas.plotting import register_matplotlib_converters\n",
    "from statsmodels.graphics.tsaplots import plot_acf, plot_pacf\n",
    "from statsmodels.tsa.stattools import acf, pacf\n",
    "from statsmodels.tsa.arima.model import ARIMA\n",
    "from statsmodels.tsa.stattools import adfuller\n",
    "\n",
    "register_matplotlib_converters()"
   ]
  },
  {
   "cell_type": "code",
   "execution_count": 5,
   "id": "9f1045bb-e56c-4feb-9b19-6527dc65a07a",
   "metadata": {},
   "outputs": [
    {
     "data": {
      "text/html": [
       "<div>\n",
       "<style scoped>\n",
       "    .dataframe tbody tr th:only-of-type {\n",
       "        vertical-align: middle;\n",
       "    }\n",
       "\n",
       "    .dataframe tbody tr th {\n",
       "        vertical-align: top;\n",
       "    }\n",
       "\n",
       "    .dataframe thead th {\n",
       "        text-align: right;\n",
       "    }\n",
       "</style>\n",
       "<table border=\"1\" class=\"dataframe\">\n",
       "  <thead>\n",
       "    <tr style=\"text-align: right;\">\n",
       "      <th></th>\n",
       "      <th>date</th>\n",
       "      <th>store</th>\n",
       "      <th>item</th>\n",
       "      <th>sales</th>\n",
       "    </tr>\n",
       "  </thead>\n",
       "  <tbody>\n",
       "    <tr>\n",
       "      <th>0</th>\n",
       "      <td>2013-01-01</td>\n",
       "      <td>1</td>\n",
       "      <td>1</td>\n",
       "      <td>13</td>\n",
       "    </tr>\n",
       "    <tr>\n",
       "      <th>1</th>\n",
       "      <td>2013-01-02</td>\n",
       "      <td>1</td>\n",
       "      <td>1</td>\n",
       "      <td>11</td>\n",
       "    </tr>\n",
       "    <tr>\n",
       "      <th>2</th>\n",
       "      <td>2013-01-03</td>\n",
       "      <td>1</td>\n",
       "      <td>1</td>\n",
       "      <td>14</td>\n",
       "    </tr>\n",
       "    <tr>\n",
       "      <th>3</th>\n",
       "      <td>2013-01-04</td>\n",
       "      <td>1</td>\n",
       "      <td>1</td>\n",
       "      <td>13</td>\n",
       "    </tr>\n",
       "    <tr>\n",
       "      <th>4</th>\n",
       "      <td>2013-01-05</td>\n",
       "      <td>1</td>\n",
       "      <td>1</td>\n",
       "      <td>10</td>\n",
       "    </tr>\n",
       "    <tr>\n",
       "      <th>...</th>\n",
       "      <td>...</td>\n",
       "      <td>...</td>\n",
       "      <td>...</td>\n",
       "      <td>...</td>\n",
       "    </tr>\n",
       "    <tr>\n",
       "      <th>912995</th>\n",
       "      <td>2017-12-27</td>\n",
       "      <td>10</td>\n",
       "      <td>50</td>\n",
       "      <td>63</td>\n",
       "    </tr>\n",
       "    <tr>\n",
       "      <th>912996</th>\n",
       "      <td>2017-12-28</td>\n",
       "      <td>10</td>\n",
       "      <td>50</td>\n",
       "      <td>59</td>\n",
       "    </tr>\n",
       "    <tr>\n",
       "      <th>912997</th>\n",
       "      <td>2017-12-29</td>\n",
       "      <td>10</td>\n",
       "      <td>50</td>\n",
       "      <td>74</td>\n",
       "    </tr>\n",
       "    <tr>\n",
       "      <th>912998</th>\n",
       "      <td>2017-12-30</td>\n",
       "      <td>10</td>\n",
       "      <td>50</td>\n",
       "      <td>62</td>\n",
       "    </tr>\n",
       "    <tr>\n",
       "      <th>912999</th>\n",
       "      <td>2017-12-31</td>\n",
       "      <td>10</td>\n",
       "      <td>50</td>\n",
       "      <td>82</td>\n",
       "    </tr>\n",
       "  </tbody>\n",
       "</table>\n",
       "<p>913000 rows × 4 columns</p>\n",
       "</div>"
      ],
      "text/plain": [
       "             date  store  item  sales\n",
       "0      2013-01-01      1     1     13\n",
       "1      2013-01-02      1     1     11\n",
       "2      2013-01-03      1     1     14\n",
       "3      2013-01-04      1     1     13\n",
       "4      2013-01-05      1     1     10\n",
       "...           ...    ...   ...    ...\n",
       "912995 2017-12-27     10    50     63\n",
       "912996 2017-12-28     10    50     59\n",
       "912997 2017-12-29     10    50     74\n",
       "912998 2017-12-30     10    50     62\n",
       "912999 2017-12-31     10    50     82\n",
       "\n",
       "[913000 rows x 4 columns]"
      ]
     },
     "execution_count": 5,
     "metadata": {},
     "output_type": "execute_result"
    }
   ],
   "source": [
    "train_df = pd.read_csv(\"../data/train.csv\")\n",
    "train_df[\"date\"] = pd.to_datetime(train_df[\"date\"])\n",
    "train_df"
   ]
  },
  {
   "cell_type": "markdown",
   "id": "4e75932d-6144-412b-beaa-07eb98090cd1",
   "metadata": {},
   "source": [
    "# INCOMPLETE, I don't know how to do out of sample forecasting with ARIMA.\n",
    "# ARIMA works fine with in-sample \"forecasting\"\n",
    "# All the sources I have looked up on the internal only do forecasting of size"
   ]
  },
  {
   "cell_type": "code",
   "execution_count": 99,
   "id": "25f52e11-5b2a-4aa6-81ba-80d8a4ff6b90",
   "metadata": {},
   "outputs": [],
   "source": [
    "\n",
    "## In complete\n",
    "def find_best_model(df, store_id, item_id):\n",
    "    df2 = df[(df[\"store\"] == store_id) & (df[\"item\"] == item_id)][[\"date\", \"sales\"]]\n",
    "    df_size = len(df2)\n",
    "    # from the ratio there is around 5 \"period\" so train set is 4 period\n",
    "    train_ratio = 0.6\n",
    "    train_cutoff_index = int(df_size * train_ratio)\n",
    "\n",
    "    # We need to preserve the temporal order of the train and val df\n",
    "    train_df = df2[:train_cutoff_index]\n",
    "    val_df = df2[train_cutoff_index:]\n",
    "    \n",
    "    train_series = pd.Series(train_df[\"sales\"].values, train_df[\"date\"])\n",
    "    val_series = pd.Series(val_df[\"sales\"].values, val_df[\"date\"])\n",
    "\n",
    "    best_model = None\n",
    "    best_loss = np.inf  ## MSE loss\n",
    "    step_size = 10\n",
    "\n",
    "    model = ARIMA(train_series, order=(3,1,3)).fit()\n",
    "    \n",
    "    # pred = model.get_predict(start=train_series.index[0], end=val_series.index[-1], dynamic=False)\n",
    "    pred = model.forecast(steps=len(val_series))\n",
    "    plt.plot(train_series)\n",
    "    plt.plot(pred)\n",
    "    \n",
    "    # plt.plot(pred)\n",
    "    # plt.plot(train_series)\n",
    "    \n",
    "    # for (p, q) in product(range(2), range(2)):\n",
    "    # # for (p, q) in product(range(2+1), range(7+1)):\n",
    "    #     if p + q == 0:\n",
    "    #         continue\n",
    "    #     model = ARIMA(train_series, order=(p,1,q)).fit()\n",
    "    #     pred = model.predict(start=val_series.index[0], end=val_series.index[-1])\n",
    "\n",
    "    #     plt.plot(pred)"
   ]
  },
  {
   "cell_type": "code",
   "execution_count": 98,
   "id": "f56a382b-5152-4025-b82a-b7c93ad95377",
   "metadata": {},
   "outputs": [
    {
     "name": "stderr",
     "output_type": "stream",
     "text": [
      "/media/windows/Users/min/My_Documents/School/Year3Semester1/SC4000/Demand_Forecast/_build/pip_packages/lib/python3.10/site-packages/statsmodels/tsa/base/tsa_model.py:473: ValueWarning: No frequency information was provided, so inferred frequency D will be used.\n",
      "  self._init_dates(dates, freq)\n",
      "/media/windows/Users/min/My_Documents/School/Year3Semester1/SC4000/Demand_Forecast/_build/pip_packages/lib/python3.10/site-packages/statsmodels/tsa/base/tsa_model.py:473: ValueWarning: No frequency information was provided, so inferred frequency D will be used.\n",
      "  self._init_dates(dates, freq)\n",
      "/media/windows/Users/min/My_Documents/School/Year3Semester1/SC4000/Demand_Forecast/_build/pip_packages/lib/python3.10/site-packages/statsmodels/tsa/base/tsa_model.py:473: ValueWarning: No frequency information was provided, so inferred frequency D will be used.\n",
      "  self._init_dates(dates, freq)\n",
      "/media/windows/Users/min/My_Documents/School/Year3Semester1/SC4000/Demand_Forecast/_build/pip_packages/lib/python3.10/site-packages/statsmodels/base/model.py:607: ConvergenceWarning: Maximum Likelihood optimization failed to converge. Check mle_retvals\n",
      "  warnings.warn(\"Maximum Likelihood optimization failed to \"\n"
     ]
    },
    {
     "data": {
      "image/png": "[encoded data removed]",
      "text/plain": [
       "<Figure size 640x480 with 1 Axes>"
      ]
     },
     "metadata": {},
     "output_type": "display_data"
    }
   ],
   "source": [
    "find_best_model(train_df, 1, 1)"
   ]
  },
  {
   "cell_type": "code",
   "execution_count": null,
   "id": "49323302-2b7f-46c6-9a93-288996639b06",
   "metadata": {},
   "outputs": [],
   "source": []
  },
  {
   "cell_type": "code",
   "execution_count": null,
   "id": "adb060d8-9c2f-4386-9c9c-a99968b80f0e",
   "metadata": {},
   "outputs": [],
   "source": []
  }
 ],
 "metadata": {
  "kernelspec": {
   "display_name": "Python 3 (ipykernel)",
   "language": "python",
   "name": "python3"
  },
  "language_info": {
   "codemirror_mode": {
    "name": "ipython",
    "version": 3
   },
   "file_extension": ".py",
   "mimetype": "text/x-python",
   "name": "python",
   "nbconvert_exporter": "python",
   "pygments_lexer": "ipython3",
   "version": "3.10.12"
  }
 },
 "nbformat": 4,
 "nbformat_minor": 5
}
